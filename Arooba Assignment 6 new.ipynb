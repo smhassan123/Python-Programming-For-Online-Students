{
 "cells": [
  {
   "cell_type": "markdown",
   "metadata": {},
   "source": [
    "### Q.1 Object Oriented Programming Language:\n",
    "#### Object-oriented programming is a programming paradigm based on the concept of \"objects\", which can contain data, in the form of fields, and code, in the form of procedures. A feature of objects is an object's procedures that can access and often modify the data fields of the object with which they are associated."
   ]
  },
  {
   "cell_type": "markdown",
   "metadata": {},
   "source": [
    "### Q.2 Benefits of OOP?\n",
    "#### 1. Multi featured: Oop have multiple features.\n",
    "#### 2.Simplicity: OOP provides clear modular structure(real world objects) for programs, so the complexity is reduced and the program structure is very clear.\n",
    "#### 3.Modularity: In oop each object forms a separate entity whose internal workings are decoupled from other parts of the system.\n",
    "#### 4.Modifiability: It is easy to make minor changes in the data representation or the procedures in an OO program. Changes inside a class do not affect any other part of a program, since the only public interface that the external world has to a class is through the use of methods.\n",
    "#### 5.xtensibility: Adding new features or responding to changing operating environments can be solved by introducing a few new objects and modifying some existing ones.\n",
    "#### 6.Maintainability: Objects can be maintained separately, making locating and fixing problems easier.\n",
    "#### 7.Reusability: Objects can be reused in different program. So that the cost of development lowers and also enables faster development."
   ]
  },
  {
   "cell_type": "markdown",
   "metadata": {},
   "source": [
    "## Q.3 Difference between Function and Method?\n",
    "### Method:\n",
    "#### Method is called by its name, but it is associated to an object (dependent). A method is implicitly passed the object on which it is invoked. It may or may not return any data. A method can operate on the data (instance variables) that is contained by the corresponding class.\n",
    "### Function:\n",
    "#### Function is block of code that is also called by its name. (independent). The function can have different parameters or may not have any at all. If any data (parameters) are passed, they are passed explicitly. It may or may not return any data. Function does not deal with Class and its instance concept. "
   ]
  },
  {
   "cell_type": "markdown",
   "metadata": {},
   "source": [
    "## Q.4 Define terms:\n",
    "#### 1. Class:  Classes are used to create new user-defined data structures that contain arbitrary information about something. In the case of an animal, we could create an Animal() class to track properties about the Animal like the name and age.\n",
    "#### 2. Object: An object is also called an instance; therefore, the process of creating an object of a class is called instantiation. In Python, to create an object of a class we simply need to write the class name followed by opening and closing parenthesis.\n",
    "#### 3. Attribute: All classes create objects, and all objects contain characteristics called attributes (referred to as properties in the opening paragraph). Use the init() method to initialize (e.g., specify) an object’s initial attributes by giving them their default value (or state). This method must have at least one argument as well as the self variable, which refers to the object itself (e.g., Dog).\n",
    "#### Behavior: The way in which a machine or natural phenomenon works or functions."
   ]
  },
  {
   "cell_type": "code",
   "execution_count": 3,
   "metadata": {},
   "outputs": [
    {
     "name": "stdout",
     "output_type": "stream",
     "text": [
      "car name is  cultus\n"
     ]
    }
   ],
   "source": [
    "class Car:\n",
    "    def __init__(self,name,color,company,model,miles):\n",
    "        self.name=name\n",
    "        self.color=color\n",
    "        self.company=company\n",
    "        self.model=model\n",
    "        self.miles=miles\n",
    "    def carname(self):\n",
    "        print('car name is ',self.name)\n",
    "    def carCompany(self):\n",
    "        print(self.company)\n",
    "    def carmodel(self):\n",
    "        print(self.model)\n",
    "car = Car('cultus','white','suzuki','2015','4520')\n",
    "car.carname()"
   ]
  },
  {
   "cell_type": "code",
   "execution_count": 2,
   "metadata": {},
   "outputs": [
    {
     "name": "stdout",
     "output_type": "stream",
     "text": [
      "2015\n"
     ]
    }
   ],
   "source": [
    "car.carmodel()"
   ]
  },
  {
   "cell_type": "code",
   "execution_count": 5,
   "metadata": {},
   "outputs": [
    {
     "name": "stdout",
     "output_type": "stream",
     "text": [
      "car name is  cultus\n"
     ]
    }
   ],
   "source": [
    "car.carname()"
   ]
  },
  {
   "cell_type": "code",
   "execution_count": null,
   "metadata": {},
   "outputs": [],
   "source": []
  }
 ],
 "metadata": {
  "kernelspec": {
   "display_name": "Python 3",
   "language": "python",
   "name": "python3"
  },
  "language_info": {
   "codemirror_mode": {
    "name": "ipython",
    "version": 3
   },
   "file_extension": ".py",
   "mimetype": "text/x-python",
   "name": "python",
   "nbconvert_exporter": "python",
   "pygments_lexer": "ipython3",
   "version": "3.7.4"
  }
 },
 "nbformat": 4,
 "nbformat_minor": 2
}
