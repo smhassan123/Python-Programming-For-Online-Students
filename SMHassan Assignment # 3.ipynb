{
 "cells": [
  {
   "cell_type": "markdown",
   "metadata": {},
   "source": [
    "# Assignment # 3"
   ]
  },
  {
   "cell_type": "markdown",
   "metadata": {},
   "source": [
    "1. Make a calculator using Python with addition , subtraction , multiplication , division and power."
   ]
  },
  {
   "cell_type": "code",
   "execution_count": 4,
   "metadata": {},
   "outputs": [
    {
     "name": "stdout",
     "output_type": "stream",
     "text": [
      "Enter Value: 5\n",
      "Enter Operator: **\n",
      "Enter Value: 2\n",
      "Result is  25\n"
     ]
    }
   ],
   "source": [
    "val1 = int(input(\"Enter Value: \"))\n",
    "opr = input(\"Enter Operator: \")\n",
    "val2 = int(input(\"Enter Value: \"))\n",
    "\n",
    "if opr == \"+\" :\n",
    "    result = val1 + val2\n",
    "    print(\"Result is \", result)\n",
    "elif opr == \"-\" :\n",
    "    result = val1 - val2\n",
    "    print(\"Result is \", result)\n",
    "elif opr == \"*\" :\n",
    "    result = val1 * val2\n",
    "    print(\"Result is \", result)\n",
    "elif opr == \"/\" :\n",
    "    result = val1 / val2\n",
    "    print(\"Result is \", result)\n",
    "elif opr == \"**\" :\n",
    "    result = val1 ** val2\n",
    "    print(\"Result is \", result)\n",
    "else:\n",
    "    print(\"Enter appropriate Operator\")"
   ]
  },
  {
   "cell_type": "markdown",
   "metadata": {},
   "source": [
    "2. Write a program to check if there is any numeric value in list using for loop"
   ]
  },
  {
   "cell_type": "code",
   "execution_count": 18,
   "metadata": {},
   "outputs": [
    {
     "name": "stdout",
     "output_type": "stream",
     "text": [
      "Numeric value exist\n"
     ]
    }
   ],
   "source": [
    "list1 = [ 1 , 5 , 9 , 8 , 6]\n",
    "\n",
    "for numeric in list1:\n",
    "    if numeric >= 0 or numeric < 0 :\n",
    "        print(\"Numeric value exist\")\n",
    "        break\n",
    "    else:\n",
    "        print(\"Numeric value does not exist\")"
   ]
  },
  {
   "cell_type": "markdown",
   "metadata": {},
   "source": [
    "3. Write a Python script to add a key to a dictionary"
   ]
  },
  {
   "cell_type": "code",
   "execution_count": 26,
   "metadata": {},
   "outputs": [
    {
     "name": "stdout",
     "output_type": "stream",
     "text": [
      "Enter Rank: 4th\n",
      "Enter Car: Lexus 570\n",
      "{'1st': 'Ford Raptor', '2nd': 'GMC Denali', '3rd': 'Jeep Wrangler', '4th': 'Lexus 570'}\n"
     ]
    }
   ],
   "source": [
    "Fav_Cars = { \"1st\" : \"Ford Raptor\" , \"2nd\" : \"GMC Denali\" , \"3rd\" : \"Jeep Wrangler\"}\n",
    "rank = input(\"Enter Rank: \")\n",
    "car = input(\"Enter Car: \")\n",
    "\n",
    "Fav_Cars[rank] = car\n",
    "print(Fav_Cars)"
   ]
  },
  {
   "cell_type": "code",
   "execution_count": 30,
   "metadata": {},
   "outputs": [
    {
     "name": "stdout",
     "output_type": "stream",
     "text": [
      "Enter Rank: 5th\n",
      "Enter Car: Range Rover\n",
      "{'1st': 'Ford Raptor', '2nd': 'GMC Denali', '3rd': 'Jeep Wrangler', '4th': 'Lexus 570', '5th': 'Range Rover'}\n"
     ]
    }
   ],
   "source": [
    "rank = input(\"Enter Rank: \")\n",
    "car = input(\"Enter Car: \")\n",
    "\n",
    "Fav_Cars[rank] = car\n",
    "print(Fav_Cars)"
   ]
  },
  {
   "cell_type": "markdown",
   "metadata": {},
   "source": [
    "4. Write a Python program to sum all the numeric items in a dictionary"
   ]
  },
  {
   "cell_type": "code",
   "execution_count": 22,
   "metadata": {},
   "outputs": [
    {
     "name": "stdout",
     "output_type": "stream",
     "text": [
      "Total Marks:  349\n"
     ]
    }
   ],
   "source": [
    "hsn_marks = {\"mth\" : 90 , \"urd\" : 85 , \"sci\" : 89 , \"eng\" : 85}\n",
    "\n",
    "total_marks = sum(hsn_marks.values())\n",
    "print(\"Total Marks: \" ,total_marks)"
   ]
  },
  {
   "cell_type": "markdown",
   "metadata": {},
   "source": [
    "5. Write a program to identify duplicate values from list"
   ]
  },
  {
   "cell_type": "code",
   "execution_count": 24,
   "metadata": {},
   "outputs": [
    {
     "name": "stdout",
     "output_type": "stream",
     "text": [
      "['a', 9, 6, 8, 4]\n"
     ]
    }
   ],
   "source": [
    "list2 = [ \"s\" , \"a\" , \"d\" , \"a\" ,6 , \"a\" , 4, 9 , 8 , 9 , 7 , 3 , 1 , 2 , 6 , 8 , \"a\" , 4]\n",
    "duplicate = []\n",
    "unique = {}\n",
    "\n",
    "for x in list2:\n",
    "    if x not in unique :\n",
    "        unique[x] = 1\n",
    "    else:\n",
    "        if unique[x] == 1:\n",
    "            duplicate.append(x)\n",
    "        unique[x] += 1\n",
    "print(duplicate)"
   ]
  },
  {
   "cell_type": "markdown",
   "metadata": {},
   "source": [
    "6. Write a Python script to check if a given key already exists in a dictionary"
   ]
  },
  {
   "cell_type": "code",
   "execution_count": 35,
   "metadata": {},
   "outputs": [
    {
     "name": "stdout",
     "output_type": "stream",
     "text": [
      "Enter key: sci\n",
      "sci  already exist\n"
     ]
    }
   ],
   "source": [
    "hsn_marks = {\"mth\" : 90 , \"urd\" : 85 , \"sci\" : 89 , \"eng\" : 85}\n",
    "key = input(\"Enter key: \")\n",
    "\n",
    "if key in hsn_marks.keys():\n",
    "    print(key , \" already exist\")\n",
    "else:\n",
    "    print(key, \" does not exist\")"
   ]
  },
  {
   "cell_type": "code",
   "execution_count": 36,
   "metadata": {},
   "outputs": [
    {
     "name": "stdout",
     "output_type": "stream",
     "text": [
      "Enter key: phy\n",
      "phy  does not exist\n"
     ]
    }
   ],
   "source": [
    "hsn_marks = {\"mth\" : 90 , \"urd\" : 85 , \"sci\" : 89 , \"eng\" : 85}\n",
    "key = input(\"Enter key: \")\n",
    "\n",
    "if key in hsn_marks.keys():\n",
    "    print(key , \" already exist\")\n",
    "else:\n",
    "    print(key, \" does not exist\")"
   ]
  },
  {
   "cell_type": "code",
   "execution_count": null,
   "metadata": {},
   "outputs": [],
   "source": []
  }
 ],
 "metadata": {
  "kernelspec": {
   "display_name": "Python 3",
   "language": "python",
   "name": "python3"
  },
  "language_info": {
   "codemirror_mode": {
    "name": "ipython",
    "version": 3
   },
   "file_extension": ".py",
   "mimetype": "text/x-python",
   "name": "python",
   "nbconvert_exporter": "python",
   "pygments_lexer": "ipython3",
   "version": "3.7.4"
  }
 },
 "nbformat": 4,
 "nbformat_minor": 2
}
