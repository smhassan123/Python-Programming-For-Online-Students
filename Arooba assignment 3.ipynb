{
 "cells": [
  {
   "cell_type": "code",
   "execution_count": 1,
   "metadata": {},
   "outputs": [
    {
     "name": "stdout",
     "output_type": "stream",
     "text": [
      "Enter First Value6\n",
      "Enter Operator**\n",
      "Enter Second Value2\n",
      "36 answer\n"
     ]
    }
   ],
   "source": [
    "val1 = int(input('Enter First Value' ))\n",
    "operator = input('Enter Operator' )\n",
    "val2 = int(input('Enter Second Value' ))\n",
    "\n",
    "if operator == '+' :\n",
    "    val = val1 + val2\n",
    "    print(val, 'answer')\n",
    "elif operator == '-' :\n",
    "    val = val1 - val2\n",
    "    print(val, 'answer')\n",
    "elif operator == '*' :\n",
    "    val = val1 * val2\n",
    "    print(val, 'answer')\n",
    "elif operator == '/' :\n",
    "    val = val1 / val2\n",
    "    print(val, 'answer')\n",
    "elif operator == '**' :\n",
    "    val = val1 ** val2\n",
    "    print(val, 'answer')\n",
    "else:\n",
    "    print('Enter Correct Operator')\n"
   ]
  },
  {
   "cell_type": "code",
   "execution_count": 4,
   "metadata": {},
   "outputs": [
    {
     "name": "stdout",
     "output_type": "stream",
     "text": [
      "Yes Numeric Value Exist\n"
     ]
    }
   ],
   "source": [
    "lista = [ 2 , 4 , 6 , 8 , 10 ]\n",
    "\n",
    "for numeric in lista:\n",
    "    if numeric >= 0 or numeric < 0 :\n",
    "        print(\"Yes Numeric Value Exist\")\n",
    "        break\n",
    "    else:\n",
    "        print(\"No There is no Numeric Value\")"
   ]
  },
  {
   "cell_type": "code",
   "execution_count": 8,
   "metadata": {},
   "outputs": [
    {
     "name": "stdout",
     "output_type": "stream",
     "text": [
      "{1: 'ISB', 2: 'KHI', 3: 'LHR', 4: 'FSB', 5: 'RWL', 6: 'QUE'}\n"
     ]
    }
   ],
   "source": [
    "beautiful_cities = { 1 : \"ISB\" , 2: \"KHI\" , 3: \"LHR\" , 4: \"FSB\" , 5: \"RWL\"}\n",
    "beautiful_cities[6] = \"QUE\"\n",
    "print(beautiful_cities)"
   ]
  },
  {
   "cell_type": "code",
   "execution_count": 14,
   "metadata": {},
   "outputs": [
    {
     "name": "stdout",
     "output_type": "stream",
     "text": [
      "Final_Score:  49\n"
     ]
    }
   ],
   "source": [
    "score = {\"1stover\" : 10 , \"2ndover\" : 6 , \"3rdover\" : 25 , \"4thover\" : 8}\n",
    "\n",
    "final_score = sum(score.values())\n",
    "print(\"Final_Score: \" ,final_score)"
   ]
  },
  {
   "cell_type": "code",
   "execution_count": 15,
   "metadata": {},
   "outputs": [
    {
     "name": "stdout",
     "output_type": "stream",
     "text": [
      "These are the repeating value [4, 9, 1]\n"
     ]
    }
   ],
   "source": [
    "list1 = [1,4,5,9,7,3,4,9,1,2]\n",
    "\n",
    "dup_items = []\n",
    "uni_items = {}\n",
    "\n",
    "for value in list1:\n",
    "    if value not in uni_items:\n",
    "        uni_items[value] = 1\n",
    "    elif uni_items[value] == 1:\n",
    "        dup_items.append(value)\n",
    "uni_items[value] += 1\n",
    "\n",
    "print(\"These are the repeating value\",dup_items)"
   ]
  },
  {
   "cell_type": "code",
   "execution_count": 19,
   "metadata": {},
   "outputs": [
    {
     "name": "stdout",
     "output_type": "stream",
     "text": [
      "Enter a key: marks\n",
      "This Key marks Does Not Exist\n"
     ]
    }
   ],
   "source": [
    "student = {\"Name\" : \"Arooba\", \"class\" : \"python\", \"assignment\" : \"3rd\"}\n",
    "\n",
    "key = input(\"Enter a key: \")\n",
    "\n",
    "if key in student:\n",
    "    print(\"This Key\" ,key, \"Already Exist\")\n",
    "else:\n",
    "    print(\"This Key\" ,key, \"Does Not Exist\")"
   ]
  },
  {
   "cell_type": "code",
   "execution_count": null,
   "metadata": {},
   "outputs": [],
   "source": []
  }
 ],
 "metadata": {
  "kernelspec": {
   "display_name": "Python 3",
   "language": "python",
   "name": "python3"
  },
  "language_info": {
   "codemirror_mode": {
    "name": "ipython",
    "version": 3
   },
   "file_extension": ".py",
   "mimetype": "text/x-python",
   "name": "python",
   "nbconvert_exporter": "python",
   "pygments_lexer": "ipython3",
   "version": "3.7.4"
  }
 },
 "nbformat": 4,
 "nbformat_minor": 2
}
