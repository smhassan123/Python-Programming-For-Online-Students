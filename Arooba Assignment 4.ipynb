{
 "cells": [
  {
   "cell_type": "code",
   "execution_count": 1,
   "metadata": {},
   "outputs": [
    {
     "name": "stdout",
     "output_type": "stream",
     "text": [
      "{'first_name': 'zarnish', 'last_name': 'khan', 'age': 22, 'city': 'karachi'}\n"
     ]
    }
   ],
   "source": [
    "customer = {\n",
    "    \"first_name\" : \"zarnish\" ,\n",
    "    \"last_name\" : \"khan\",\n",
    "    \"age\" : 22 ,\n",
    "    \"city\" : \"karachi\"\n",
    "}\n",
    "print(customer)"
   ]
  },
  {
   "cell_type": "code",
   "execution_count": 2,
   "metadata": {},
   "outputs": [
    {
     "name": "stdout",
     "output_type": "stream",
     "text": [
      "{'first_name': 'zarnish', 'last_name': 'khan', 'age': 22, 'city': 'karachi', 'qualification': 'graduation'}\n"
     ]
    }
   ],
   "source": [
    "customer[\"qualification\"] = \"graduation\"\n",
    "print(customer)"
   ]
  },
  {
   "cell_type": "code",
   "execution_count": 3,
   "metadata": {},
   "outputs": [
    {
     "name": "stdout",
     "output_type": "stream",
     "text": [
      "{'first_name': 'zarnish', 'last_name': 'khan', 'age': 22, 'city': 'karachi', 'qualification': 'masters'}\n"
     ]
    }
   ],
   "source": [
    "customer[\"qualification\"] = \"masters\"\n",
    "print(customer)"
   ]
  },
  {
   "cell_type": "code",
   "execution_count": 4,
   "metadata": {},
   "outputs": [
    {
     "name": "stdout",
     "output_type": "stream",
     "text": [
      "{'first_name': 'zarnish', 'last_name': 'khan', 'age': 22, 'city': 'karachi'}\n"
     ]
    }
   ],
   "source": [
    "del customer[\"qualification\"]\n",
    "print(customer)"
   ]
  },
  {
   "cell_type": "code",
   "execution_count": 5,
   "metadata": {},
   "outputs": [
    {
     "name": "stdout",
     "output_type": "stream",
     "text": [
      "{'karachi': {'population': '16_million', 'fact': 'it is the sixth largest city in the world by the population', 'country': 'Pakistan'}, 'Tokyo': {'population': '13.4 million', 'fact': 'tourism in tokyo is major industry', 'country': 'Japan'}, 'Toronto': {'population': '5.6 million', 'fact': 'Toronto is the world’s fourth most livable city', 'country': 'Canada'}}\n"
     ]
    }
   ],
   "source": [
    "cities = {\n",
    "    \"karachi\" : {\n",
    "        \"population\" : \"16_million\" ,\n",
    "        \"fact\" : \"it is the sixth largest city in the world by the population\" , \n",
    "        \"country\" : \"Pakistan\" ,\n",
    "    } ,\n",
    "    \"Tokyo\" : {\n",
    "        \"population\" : \"13.4 million\" ,\n",
    "        \"fact\" : \"tourism in tokyo is major industry\" , \n",
    "        \"country\" : \"Japan\" , \n",
    "    } ,\n",
    "    \"Toronto\" : {\n",
    "        \"population\" : \"5.6 million\" ,\n",
    "        \"fact\" : \"Toronto is the world’s fourth most livable city\" ,\n",
    "        \"country\" : \"Canada\" ,\n",
    "    }\n",
    "}\n",
    "print(cities)"
   ]
  },
  {
   "cell_type": "code",
   "execution_count": 8,
   "metadata": {},
   "outputs": [
    {
     "name": "stdout",
     "output_type": "stream",
     "text": [
      "enter your age: 5\n",
      "Your ticket's price is $10\n"
     ]
    }
   ],
   "source": [
    "age = int(input(\"enter your age: \"))\n",
    "if age < 3:\n",
    "        print(\"Your ticket is Free\")\n",
    "elif age >= 3 and age <= 12:\n",
    "        print(\"Your ticket's price is $10\")\n",
    "elif age > 12:\n",
    "        print(\"Your ticket's is $15\")\n",
    "else:\n",
    "        print(\"Invalid value\")"
   ]
  },
  {
   "cell_type": "code",
   "execution_count": 9,
   "metadata": {},
   "outputs": [
    {
     "name": "stdout",
     "output_type": "stream",
     "text": [
      "one of my favorite books is Alice in WonderLand\n"
     ]
    }
   ],
   "source": [
    "def favorite_book(title):\n",
    "    if title == 1:\n",
    "        print(\"one of my favorite books is Alice in WonderLand\")\n",
    "\n",
    "favorite_book(1)"
   ]
  },
  {
   "cell_type": "code",
   "execution_count": 10,
   "metadata": {},
   "outputs": [
    {
     "name": "stdout",
     "output_type": "stream",
     "text": [
      "Enter the Guess Number: 25\n",
      "You Guess Higher Number\n",
      "Computer's Guess Number:  20\n",
      "Enter the Guess Number: 11\n",
      "You Guess Lower Number\n",
      "Computer's Guess Number:  17\n",
      "Enter the Guess Number: 1\n",
      "You Guess Lower Number\n",
      "Computer's Guess Number:  16\n"
     ]
    }
   ],
   "source": [
    "import random\n",
    "count = 0\n",
    "while count < 3:\n",
    "    guess = int(input(\"Enter the Guess Number: \"))\n",
    "    count += 1\n",
    "    rand = random.randint(1,30)\n",
    "    if guess == rand:\n",
    "        print(\"You Guess Correct Number\")\n",
    "    elif guess > rand:\n",
    "        print(\"You Guess Higher Number\")\n",
    "    elif guess < rand:\n",
    "        print(\"You Guess Lower Number\")\n",
    "    print(\"Computer's Guess Number: \",rand)"
   ]
  },
  {
   "cell_type": "code",
   "execution_count": null,
   "metadata": {},
   "outputs": [],
   "source": []
  }
 ],
 "metadata": {
  "kernelspec": {
   "display_name": "Python 3",
   "language": "python",
   "name": "python3"
  },
  "language_info": {
   "codemirror_mode": {
    "name": "ipython",
    "version": 3
   },
   "file_extension": ".py",
   "mimetype": "text/x-python",
   "name": "python",
   "nbconvert_exporter": "python",
   "pygments_lexer": "ipython3",
   "version": "3.7.4"
  }
 },
 "nbformat": 4,
 "nbformat_minor": 2
}
