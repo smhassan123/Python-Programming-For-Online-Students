{
 "cells": [
  {
   "cell_type": "markdown",
   "metadata": {},
   "source": [
    "# Assignment # 2"
   ]
  },
  {
   "cell_type": "markdown",
   "metadata": {},
   "source": [
    "1. Write a program which takes 5 inputs from user for different subject’s marks, total it and generate mark sheet using grades ?"
   ]
  },
  {
   "cell_type": "code",
   "execution_count": 12,
   "metadata": {},
   "outputs": [
    {
     "name": "stdout",
     "output_type": "stream",
     "text": [
      "Physics marks: 85\n",
      "Chemistry marks: 75\n",
      "Mathematics marks: 90\n",
      "English marks: 80\n",
      "Urdu marks: 95\n",
      "Grade: A+\n"
     ]
    }
   ],
   "source": [
    "phy = int(input(\"Physics marks: \"))\n",
    "chem = int(input(\"Chemistry marks: \"))\n",
    "math = int(input(\"Mathematics marks: \"))\n",
    "eng = int(input(\"English marks: \"))\n",
    "urdu = int(input(\"Urdu marks: \"))\n",
    "per = ((phy + chem + math + eng + urdu)/500)*100\n",
    "if per >= 80 and per <= 100 :\n",
    "    print(\"Grade: A+\")\n",
    "elif per >=70 and per < 80 :\n",
    "    print (\"Grade: A\")\n",
    "elif per >= 60 and per < 70 :\n",
    "    print (\"Grade: B\")\n",
    "elif per >= 50 and per < 60 :\n",
    "    print (\"Grade: C\")\n",
    "elif per >= 40 and per < 50 :\n",
    "    print (\"Grade: D\")\n",
    "elif per >= 33 and per < 40 :\n",
    "    print (\"Grade: E\")\n",
    "elif per >= 0 and per < 33 :\n",
    "    print (\"Fail\")\n",
    "else :\n",
    "  print(\"Inappropriate Percentage\")"
   ]
  },
  {
   "cell_type": "markdown",
   "metadata": {},
   "source": [
    "2. Write a program which take input from user and identify that the given number is even or odd?"
   ]
  },
  {
   "cell_type": "code",
   "execution_count": 7,
   "metadata": {},
   "outputs": [
    {
     "name": "stdout",
     "output_type": "stream",
     "text": [
      "Enter the number: 6\n",
      "6  is even\n"
     ]
    }
   ],
   "source": [
    "number = int(input(\"Enter the number: \"))\n",
    "num = number%2\n",
    "if num==0:\n",
    "    print(number , \" is even\")\n",
    "else :\n",
    "    print(number , \" is odd\")"
   ]
  },
  {
   "cell_type": "markdown",
   "metadata": {},
   "source": [
    "3. Write a program which print the length of the list?"
   ]
  },
  {
   "cell_type": "code",
   "execution_count": 13,
   "metadata": {},
   "outputs": [
    {
     "name": "stdout",
     "output_type": "stream",
     "text": [
      "Length is 5\n"
     ]
    }
   ],
   "source": [
    "arr = [\"Ali\" , 5 , 88 , \"Hsn\" , 8]\n",
    "length = len(arr)\n",
    "print(\"Length is\" ,length)\n"
   ]
  },
  {
   "cell_type": "markdown",
   "metadata": {},
   "source": [
    "4. Write a Python program to sum all the numeric items in a list?"
   ]
  },
  {
   "cell_type": "code",
   "execution_count": 14,
   "metadata": {},
   "outputs": [
    {
     "name": "stdout",
     "output_type": "stream",
     "text": [
      "Total is  45\n"
     ]
    }
   ],
   "source": [
    "arr1 = [ 9 , 8 ,7 , 6 , 5 , 4 , 3 , 2 , 1]\n",
    "print(\"Total is \",sum(arr1))"
   ]
  },
  {
   "cell_type": "markdown",
   "metadata": {},
   "source": [
    "5. Write a Python program to get the largest number from a numeric list."
   ]
  },
  {
   "cell_type": "code",
   "execution_count": 15,
   "metadata": {},
   "outputs": [
    {
     "name": "stdout",
     "output_type": "stream",
     "text": [
      "Largest number is  9\n"
     ]
    }
   ],
   "source": [
    "print(\"Largest number is \",max(arr1))"
   ]
  },
  {
   "cell_type": "markdown",
   "metadata": {},
   "source": [
    "6. Take a list, say for example this one:\n",
    "a = [1, 1, 2, 3, 5, 8, 13, 21, 34, 55, 89]\n",
    "and write a program that prints out all the elements of the list that are less than 5."
   ]
  },
  {
   "cell_type": "code",
   "execution_count": 11,
   "metadata": {},
   "outputs": [
    {
     "name": "stdout",
     "output_type": "stream",
     "text": [
      "1 1 2 3 "
     ]
    }
   ],
   "source": [
    "a = [1, 1, 2, 3, 5, 8, 13, 21, 34, 55, 89]\n",
    "for n in a:\n",
    "    if n < 5:\n",
    "        print(n , end = \" \")"
   ]
  }
 ],
 "metadata": {
  "kernelspec": {
   "display_name": "Python 3",
   "language": "python",
   "name": "python3"
  },
  "language_info": {
   "codemirror_mode": {
    "name": "ipython",
    "version": 3
   },
   "file_extension": ".py",
   "mimetype": "text/x-python",
   "name": "python",
   "nbconvert_exporter": "python",
   "pygments_lexer": "ipython3",
   "version": "3.7.4"
  }
 },
 "nbformat": 4,
 "nbformat_minor": 2
}
