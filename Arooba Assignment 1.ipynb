{
 "cells": [
  {
   "cell_type": "code",
   "execution_count": 1,
   "metadata": {},
   "outputs": [
    {
     "name": "stdout",
     "output_type": "stream",
     "text": [
      "twinkle twinkle little star\n",
      "    how I wonder what you are\n",
      " \tup above the world so high\n",
      " \tlike the diamond in the sky\n",
      " twinkle twinkle little star\n",
      "     how I wonder what you are\n",
      "\n"
     ]
    }
   ],
   "source": [
    "print(\"twinkle twinkle little star\\n    how I wonder what you are\\n \\tup above the world so high\\n \\tlike the diamond in the sky\\n twinkle twinkle little star\\n     how I wonder what you are\\n\")"
   ]
  },
  {
   "cell_type": "code",
   "execution_count": 2,
   "metadata": {},
   "outputs": [
    {
     "name": "stdout",
     "output_type": "stream",
     "text": [
      "3.7.4\n"
     ]
    }
   ],
   "source": [
    "from platform import python_version\n",
    "print(python_version())"
   ]
  },
  {
   "cell_type": "code",
   "execution_count": 3,
   "metadata": {},
   "outputs": [
    {
     "name": "stdout",
     "output_type": "stream",
     "text": [
      "Current date and time : \n",
      "05-11-2019 20:29:42\n"
     ]
    }
   ],
   "source": [
    "import datetime\n",
    "now = datetime.datetime.now()\n",
    "print (\"Current date and time : \")\n",
    "print (now.strftime(\"%d-%m-%Y %H:%M:%S\"))\n"
   ]
  },
  {
   "cell_type": "code",
   "execution_count": 4,
   "metadata": {},
   "outputs": [
    {
     "name": "stdout",
     "output_type": "stream",
     "text": [
      "Enter the radius: 1\n",
      "3.142\n"
     ]
    }
   ],
   "source": [
    "r = int(input(\"Enter the radius: \"))\n",
    "pi = 3.142\n",
    "area = pi * (r**2)\n",
    "print(area)\n"
   ]
  },
  {
   "cell_type": "code",
   "execution_count": 5,
   "metadata": {},
   "outputs": [
    {
     "name": "stdout",
     "output_type": "stream",
     "text": [
      "Enter First Name: Arooba\n",
      "Enter Last Name: Pervez\n",
      "Pervez Arooba\n"
     ]
    }
   ],
   "source": [
    "first_name= input(\"Enter First Name: \")\n",
    "last_name= input(\"Enter Last Name: \")\n",
    "print(last_name + \" \" + first_name)"
   ]
  },
  {
   "cell_type": "code",
   "execution_count": 6,
   "metadata": {},
   "outputs": [
    {
     "name": "stdout",
     "output_type": "stream",
     "text": [
      "Enter your value2\n",
      "enter your value3\n",
      "5\n"
     ]
    }
   ],
   "source": [
    "x=int(input(\"Enter your value\"))\n",
    "y=int(input(\"enter your value\"))\n",
    "z= x+y\n",
    "print(z)"
   ]
  },
  {
   "cell_type": "code",
   "execution_count": null,
   "metadata": {},
   "outputs": [],
   "source": []
  }
 ],
 "metadata": {
  "kernelspec": {
   "display_name": "Python 3",
   "language": "python",
   "name": "python3"
  },
  "language_info": {
   "codemirror_mode": {
    "name": "ipython",
    "version": 3
   },
   "file_extension": ".py",
   "mimetype": "text/x-python",
   "name": "python",
   "nbconvert_exporter": "python",
   "pygments_lexer": "ipython3",
   "version": "3.7.4"
  }
 },
 "nbformat": 4,
 "nbformat_minor": 2
}
