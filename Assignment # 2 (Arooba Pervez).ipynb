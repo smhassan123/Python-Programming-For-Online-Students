{
 "cells": [
  {
   "cell_type": "code",
   "execution_count": 23,
   "metadata": {},
   "outputs": [
    {
     "name": "stdout",
     "output_type": "stream",
     "text": [
      "enter maths marks 110\n",
      "enter english marks 110\n",
      "enter science marks 110\n",
      "enter urdu marks 110\n",
      "enter islamiat marks 110\n",
      "you have given inappropriate percentage\n"
     ]
    }
   ],
   "source": [
    "mth = int(input(\"enter maths marks \")) ;\n",
    "eng = int(input(\"enter english marks \")) ;\n",
    "sci = int(input(\"enter science marks \")) ;\n",
    "ur = int(input(\"enter urdu marks \")) ;\n",
    "isl = int(input(\"enter islamiat marks \")) ;\n",
    "per = (( mth + eng + sci + ur + isl) / 500)*100\n",
    "if per >= 80 and per <= 100 :\n",
    "    print(\"A+\")\n",
    "elif per >= 70 and per < 80 :\n",
    "    print(\"A\")\n",
    "elif per >= 60 and per < 70 :\n",
    "    print(\"B\")\n",
    "elif per >= 50 and per < 60 :\n",
    "    print (\"C\")\n",
    "elif per >= 40 and per < 50 :\n",
    "    print (\"D\")\n",
    "elif per >= 33 and per < 40 :\n",
    "    print (\"E\")\n",
    "elif per >= 0 and per < 33 :\n",
    "    print (\"fail\")\n",
    "else :\n",
    "    print (\"you have given inappropriate percentage\")"
   ]
  },
  {
   "cell_type": "code",
   "execution_count": 14,
   "metadata": {},
   "outputs": [
    {
     "name": "stdout",
     "output_type": "stream",
     "text": [
      "Number: 559\n",
      "559  is odd \n"
     ]
    }
   ],
   "source": [
    "num = int(input(\"Number: \"))\n",
    "if (num % 2 == 0) :\n",
    "    print (num, \" is even \")\n",
    "else :\n",
    "    print (num, \" is odd \")"
   ]
  },
  {
   "cell_type": "code",
   "execution_count": 15,
   "metadata": {},
   "outputs": [
    {
     "name": "stdout",
     "output_type": "stream",
     "text": [
      "length is  5\n"
     ]
    }
   ],
   "source": [
    "arr = [\"a\" , \"b\" , \"c\" , \"d\" , \"e\"]\n",
    "length = len(arr)\n",
    "print(\"length is \",length)"
   ]
  },
  {
   "cell_type": "code",
   "execution_count": 17,
   "metadata": {},
   "outputs": [
    {
     "name": "stdout",
     "output_type": "stream",
     "text": [
      "sum is  33\n"
     ]
    }
   ],
   "source": [
    "arr1 = [4, 8 , 10 , 6 , 5]\n",
    "answer = sum(arr1)\n",
    "print('sum is ', answer)"
   ]
  },
  {
   "cell_type": "code",
   "execution_count": 18,
   "metadata": {},
   "outputs": [
    {
     "name": "stdout",
     "output_type": "stream",
     "text": [
      "largest element is  10\n"
     ]
    }
   ],
   "source": [
    "print('largest element is ', max(arr1))"
   ]
  },
  {
   "cell_type": "code",
   "execution_count": 22,
   "metadata": {},
   "outputs": [
    {
     "name": "stdout",
     "output_type": "stream",
     "text": [
      "1 1 2 3 "
     ]
    }
   ],
   "source": [
    "a = [ 1 , 1 , 2 , 3 , 5 , 8 , 13 , 21 , 34 , 55 , 89 ]\n",
    "for num in a:\n",
    "    if num < 5:\n",
    "     print (num, end = \" \")"
   ]
  },
  {
   "cell_type": "code",
   "execution_count": null,
   "metadata": {},
   "outputs": [],
   "source": []
  }
 ],
 "metadata": {
  "kernelspec": {
   "display_name": "Python 3",
   "language": "python",
   "name": "python3"
  },
  "language_info": {
   "codemirror_mode": {
    "name": "ipython",
    "version": 3
   },
   "file_extension": ".py",
   "mimetype": "text/x-python",
   "name": "python",
   "nbconvert_exporter": "python",
   "pygments_lexer": "ipython3",
   "version": "3.7.4"
  }
 },
 "nbformat": 4,
 "nbformat_minor": 2
}
