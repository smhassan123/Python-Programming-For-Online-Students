{
 "cells": [
  {
   "cell_type": "markdown",
   "metadata": {},
   "source": [
    "# Assignment # 4"
   ]
  },
  {
   "cell_type": "markdown",
   "metadata": {},
   "source": [
    "Question1:\n",
    "Use a dictionary to store information about a person you know. Store their first name, last name, age, and the city in which they live. You should have keys such as first_name, last_name, age, and city. Print each piece of information stored in your dictionary. Add a new key value pair about qualification then update the qualification value to high academic level then delete it."
   ]
  },
  {
   "cell_type": "code",
   "execution_count": 1,
   "metadata": {},
   "outputs": [
    {
     "name": "stdout",
     "output_type": "stream",
     "text": [
      "{'first_name': 'Kashif', 'last_name': 'Ikram', 'age': 40, 'city': 'karachi'}\n"
     ]
    }
   ],
   "source": [
    "friend = {\n",
    "    \"first_name\" : \"Kashif\" ,\n",
    "    \"last_name\" : \"Ikram\",\n",
    "    \"age\" : 40 ,\n",
    "    \"city\" : \"karachi\"\n",
    "}\n",
    "print(friend)"
   ]
  },
  {
   "cell_type": "code",
   "execution_count": 2,
   "metadata": {},
   "outputs": [
    {
     "data": {
      "text/plain": [
       "{'first_name': 'Kashif',\n",
       " 'last_name': 'Ikram',\n",
       " 'age': 40,\n",
       " 'city': 'karachi',\n",
       " 'qualification': 'B.s'}"
      ]
     },
     "execution_count": 2,
     "metadata": {},
     "output_type": "execute_result"
    }
   ],
   "source": [
    "friend[\"qualification\"] = \"B.s\"\n",
    "friend"
   ]
  },
  {
   "cell_type": "code",
   "execution_count": 3,
   "metadata": {},
   "outputs": [
    {
     "data": {
      "text/plain": [
       "{'first_name': 'Kashif',\n",
       " 'last_name': 'Ikram',\n",
       " 'age': 40,\n",
       " 'city': 'karachi',\n",
       " 'qualification': 'M.s'}"
      ]
     },
     "execution_count": 3,
     "metadata": {},
     "output_type": "execute_result"
    }
   ],
   "source": [
    "friend[\"qualification\"] = \"M.s\"\n",
    "friend"
   ]
  },
  {
   "cell_type": "code",
   "execution_count": 4,
   "metadata": {},
   "outputs": [
    {
     "data": {
      "text/plain": [
       "{'first_name': 'Kashif', 'last_name': 'Ikram', 'age': 40, 'city': 'karachi'}"
      ]
     },
     "execution_count": 4,
     "metadata": {},
     "output_type": "execute_result"
    }
   ],
   "source": [
    "del friend[\"qualification\"]\n",
    "friend"
   ]
  },
  {
   "cell_type": "markdown",
   "metadata": {},
   "source": [
    "Question2:\n",
    "Make a dictionary called cities. Use the names of three cities as keys in your dictionary. Create a dictionary of information about each city and include the country that the city is in, its approximate population, and one fact about that city. The keys for each city’s dictionary should be something like country, population, and fact. Print the name of each city and all of the information you have stored about it."
   ]
  },
  {
   "cell_type": "code",
   "execution_count": 5,
   "metadata": {},
   "outputs": [],
   "source": [
    "cities =  { \"Bruges\":{\"Country\" : \"Belgium\" , \n",
    "                      \"Population\" : \"118,810\" ,\n",
    "                      \"Fact\" : \"1st in most beautiful cities of the world\"} , \n",
    "          \"Budapest\" : {\"Country\" : \"Hungary\" , \n",
    "                      \"Population\" : \"1,763,913\" ,\n",
    "                      \"Fact\" : \"2nd in most beautiful cities of the world\"},\n",
    "          \"Rome\" : {\"Country\" : \"Italy\" , \n",
    "                      \"Population\" : \"4,234,000\" ,\n",
    "                      \"Fact\" : \"3rd in most beautiful cities of the world\"}}"
   ]
  },
  {
   "cell_type": "code",
   "execution_count": 6,
   "metadata": {},
   "outputs": [
    {
     "name": "stdout",
     "output_type": "stream",
     "text": [
      "Bruges: {'Country': 'Belgium', 'Population': '118,810', 'Fact': '1st in most beautiful cities of the world'}\n"
     ]
    }
   ],
   "source": [
    "print(\"Bruges:\" , cities[\"Bruges\"])"
   ]
  },
  {
   "cell_type": "code",
   "execution_count": 7,
   "metadata": {},
   "outputs": [
    {
     "name": "stdout",
     "output_type": "stream",
     "text": [
      "Budapest: {'Country': 'Hungary', 'Population': '1,763,913', 'Fact': '2nd in most beautiful cities of the world'}\n"
     ]
    }
   ],
   "source": [
    "print(\"Budapest:\" , cities[\"Budapest\"])"
   ]
  },
  {
   "cell_type": "code",
   "execution_count": 8,
   "metadata": {},
   "outputs": [
    {
     "name": "stdout",
     "output_type": "stream",
     "text": [
      "Rome {'Country': 'Italy', 'Population': '4,234,000', 'Fact': '3rd in most beautiful cities of the world'}\n"
     ]
    }
   ],
   "source": [
    "print(\"Rome\" , cities[\"Rome\"])"
   ]
  },
  {
   "cell_type": "markdown",
   "metadata": {},
   "source": [
    "Question3:\n",
    "A movie theater charges different ticket prices depending on a person’s age. If a person is under the age of 3, the ticket is free; if they are between 3 and 12, the ticket is $10; and if they are over age 12, the ticket is $15. Write a loop in which you ask users their age, and then tel them the cost of their movie ticket."
   ]
  },
  {
   "cell_type": "code",
   "execution_count": 9,
   "metadata": {},
   "outputs": [
    {
     "name": "stdout",
     "output_type": "stream",
     "text": [
      "Enter Age: 8\n",
      "  ticket price is $10.\n",
      "Enter Age: 18\n",
      "  ticket price is $15.\n",
      "Enter Age: 2\n",
      "  ticket is free!\n",
      "Enter Age: done\n"
     ]
    }
   ],
   "source": [
    "a = \"Enter Age: \"\n",
    "\n",
    "while True:\n",
    "    age = input(a)\n",
    "    if age == 'done':\n",
    "        break\n",
    "    age = int(age)\n",
    "\n",
    "    if age < 3:\n",
    "        print(\"  ticket is free!\")\n",
    "    elif age < 13:\n",
    "        print(\"  ticket price is $10.\")\n",
    "    else:\n",
    "        print(\"  ticket price is $15.\")"
   ]
  },
  {
   "cell_type": "markdown",
   "metadata": {},
   "source": [
    "Question4:\n",
    "Write a function called favorite_book() that accepts one parameter, title. The function should print a message, such as One of my favorite books is Alice in Wonderland. Call the function, making sure to include a book title as an argument in the function call."
   ]
  },
  {
   "cell_type": "code",
   "execution_count": 10,
   "metadata": {},
   "outputs": [
    {
     "name": "stdout",
     "output_type": "stream",
     "text": [
      "one of my favorite book is Alice in Wonderland\n"
     ]
    }
   ],
   "source": [
    "def favorite_book(title):\n",
    "    print (\"one of my favorite book is\" , title)\n",
    "    \n",
    "favorite_book(\"Alice in Wonderland\")"
   ]
  },
  {
   "cell_type": "markdown",
   "metadata": {},
   "source": [
    "Question5:\n",
    "Guess the number game\n",
    "Write a program which randomly generate a number between 1 to 30 and ask the user in input field to guess the correct number. Give three chances to user guess the number and also give hint to user if hidden number is greater or smaller than the number he given to input field.\n"
   ]
  },
  {
   "cell_type": "code",
   "execution_count": 13,
   "metadata": {},
   "outputs": [
    {
     "name": "stdout",
     "output_type": "stream",
     "text": [
      "Guess the Number: 15\n",
      "Hint: Number is smaller than 15\n",
      "Guess the Number: 10\n",
      "Hint: Number is greater than 10\n",
      "Guess the Number: 13\n",
      "Hint: Number is greater than 13\n"
     ]
    }
   ],
   "source": [
    "import random\n",
    "count = 0\n",
    "while count < 3:\n",
    "    guess = int(input(\"Guess the Number: \"))\n",
    "    count += 1\n",
    "    rand = random.randint(1,30)\n",
    "    if guess == rand:\n",
    "        print(\"Correct\")\n",
    "    elif guess > rand:\n",
    "        print(\"Hint: Number is smaller than\", guess)\n",
    "    elif guess < rand:\n",
    "        print(\"Hint: Number is greater than\", guess)"
   ]
  },
  {
   "cell_type": "code",
   "execution_count": null,
   "metadata": {},
   "outputs": [],
   "source": []
  }
 ],
 "metadata": {
  "kernelspec": {
   "display_name": "Python 3",
   "language": "python",
   "name": "python3"
  },
  "language_info": {
   "codemirror_mode": {
    "name": "ipython",
    "version": 3
   },
   "file_extension": ".py",
   "mimetype": "text/x-python",
   "name": "python",
   "nbconvert_exporter": "python",
   "pygments_lexer": "ipython3",
   "version": "3.7.4"
  }
 },
 "nbformat": 4,
 "nbformat_minor": 2
}
